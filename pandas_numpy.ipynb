{
  "nbformat": 4,
  "nbformat_minor": 0,
  "metadata": {
    "colab": {
      "provenance": [],
      "authorship_tag": "ABX9TyP4ya3d1YM4oKL64jM4f5OK",
      "include_colab_link": true
    },
    "kernelspec": {
      "name": "python3",
      "display_name": "Python 3"
    },
    "language_info": {
      "name": "python"
    }
  },
  "cells": [
    {
      "cell_type": "markdown",
      "metadata": {
        "id": "view-in-github",
        "colab_type": "text"
      },
      "source": [
        "<a href=\"https://colab.research.google.com/github/Kentucky-Kaneki/Learning-Machine-Learning-/blob/main/pandas_numpy.ipynb\" target=\"_parent\"><img src=\"https://colab.research.google.com/assets/colab-badge.svg\" alt=\"Open In Colab\"/></a>"
      ]
    },
    {
      "cell_type": "code",
      "execution_count": null,
      "metadata": {
        "colab": {
          "base_uri": "https://localhost:8080/"
        },
        "id": "bs7L4GGkdVJN",
        "outputId": "55d51218-be75-40e2-d5ed-0e930271e2b6"
      },
      "outputs": [
        {
          "output_type": "stream",
          "name": "stdout",
          "text": [
            "Requirement already satisfied: pandas in /usr/local/lib/python3.11/dist-packages (2.2.2)\n",
            "Requirement already satisfied: numpy>=1.23.2 in /usr/local/lib/python3.11/dist-packages (from pandas) (2.0.2)\n",
            "Requirement already satisfied: python-dateutil>=2.8.2 in /usr/local/lib/python3.11/dist-packages (from pandas) (2.9.0.post0)\n",
            "Requirement already satisfied: pytz>=2020.1 in /usr/local/lib/python3.11/dist-packages (from pandas) (2025.2)\n",
            "Requirement already satisfied: tzdata>=2022.7 in /usr/local/lib/python3.11/dist-packages (from pandas) (2025.2)\n",
            "Requirement already satisfied: six>=1.5 in /usr/local/lib/python3.11/dist-packages (from python-dateutil>=2.8.2->pandas) (1.17.0)\n",
            "Requirement already satisfied: numpy in /usr/local/lib/python3.11/dist-packages (2.0.2)\n"
          ]
        }
      ],
      "source": [
        "!pip install pandas\n",
        "!pip install numpy\n",
        "\n",
        "import numpy as np\n",
        "import pandas as pd"
      ]
    },
    {
      "cell_type": "code",
      "source": [
        "# row splicing [0:2] (both rows, rpw with index 2 excluded)\n",
        "# column splicing [2:5] (2nd, 3rd and 4th element)\n",
        "\n",
        "a = np.array([[1,2,3,4,5,6,7],[8,9,10,11,12,13,14]])\n",
        "a[0:2, 2:5]"
      ],
      "metadata": {
        "colab": {
          "base_uri": "https://localhost:8080/"
        },
        "id": "rxWxhP2DeuQH",
        "outputId": "feb1166a-3b5c-4099-8cf0-921952a76e75"
      },
      "execution_count": null,
      "outputs": [
        {
          "output_type": "execute_result",
          "data": {
            "text/plain": [
              "array([[ 3,  4,  5],\n",
              "       [10, 11, 12]])"
            ]
          },
          "metadata": {},
          "execution_count": 12
        }
      ]
    },
    {
      "cell_type": "code",
      "source": [
        "# shape of matrix (rows, columns)\n",
        "\n",
        "a.shape"
      ],
      "metadata": {
        "colab": {
          "base_uri": "https://localhost:8080/"
        },
        "id": "8kSsDMtvTHkZ",
        "outputId": "e76b626a-4836-4bbc-b756-6193614811c9"
      },
      "execution_count": null,
      "outputs": [
        {
          "output_type": "execute_result",
          "data": {
            "text/plain": [
              "(2, 7)"
            ]
          },
          "metadata": {},
          "execution_count": 13
        }
      ]
    },
    {
      "cell_type": "code",
      "source": [
        "# give shape of matrix to get a prefilled multidimensional np.array\n",
        "\n",
        "a = np.ones((3,4))\n",
        "b = np.zeros((2,2))\n",
        "c = np.full((1,4), 4)\n",
        "print(\"array a is: \", a)\n",
        "print(\"array b is: \", b)\n",
        "print(\"array c is: \", c)"
      ],
      "metadata": {
        "colab": {
          "base_uri": "https://localhost:8080/"
        },
        "id": "g5SiV1G7TaBB",
        "outputId": "5045ef4c-bc1f-4a2d-f5d6-a2748aa9db52"
      },
      "execution_count": null,
      "outputs": [
        {
          "output_type": "stream",
          "name": "stdout",
          "text": [
            "array a is:  [[1. 1. 1. 1.]\n",
            " [1. 1. 1. 1.]\n",
            " [1. 1. 1. 1.]]\n",
            "array b is:  [[0. 0.]\n",
            " [0. 0.]]\n",
            "array c is:  [[4 4 4 4]]\n"
          ]
        }
      ]
    },
    {
      "cell_type": "code",
      "source": [
        "# randint(lower limt, upper limit !excluded!, shape)\n",
        "np.random.randint(0, 10, (3,3))"
      ],
      "metadata": {
        "colab": {
          "base_uri": "https://localhost:8080/"
        },
        "id": "HxgC1AlJUQj7",
        "outputId": "e75939c1-11a7-49a2-a013-9813a2930a86"
      },
      "execution_count": null,
      "outputs": [
        {
          "output_type": "execute_result",
          "data": {
            "text/plain": [
              "array([[6, 7, 0],\n",
              "       [2, 0, 5],\n",
              "       [1, 8, 1]])"
            ]
          },
          "metadata": {},
          "execution_count": 17
        }
      ]
    },
    {
      "cell_type": "code",
      "source": [
        "# dtype (i, u, f, O, S), bytesize\n",
        "\n",
        "arr = np.array([1, 2, 3, 4], dtype='i8')\n",
        "print(arr, arr.dtype)\n",
        "\n",
        "arr = arr.astype(\"f4\")\n",
        "print(arr, arr.dtype)"
      ],
      "metadata": {
        "colab": {
          "base_uri": "https://localhost:8080/"
        },
        "id": "BRc2UwyrfgrF",
        "outputId": "8226005c-9540-40cb-8466-d154918587a7"
      },
      "execution_count": null,
      "outputs": [
        {
          "output_type": "stream",
          "name": "stdout",
          "text": [
            "[1 2 3 4] int64\n",
            "[1. 2. 3. 4.] float32\n"
          ]
        }
      ]
    },
    {
      "cell_type": "code",
      "source": [
        "a = np.array([1,2,3,4])\n",
        "print(a, \"\\n\")\n",
        "print(a + 2, \"\\n\")\n",
        "print(a - 2, \"\\n\")\n",
        "print(a * 2, \"\\n\")\n",
        "print(a / 2, \"\\n\")\n",
        "b = np.array([1,0,1,0])\n",
        "print(a + b, \"\\n\")\n",
        "print(a ** 2, \"\\n\")\n",
        "\n",
        "A = np.ones((2,3))\n",
        "print(A, \"\\n\")\n",
        "B = np.full((3,2), 2)\n",
        "print(B, \"\\n\")\n",
        "\n",
        "# Matrix multiplication. returns error if number of A.cols != B.rows\n",
        "np.matmul(A, B)"
      ],
      "metadata": {
        "colab": {
          "base_uri": "https://localhost:8080/"
        },
        "id": "ZtyKtXNUWIt7",
        "outputId": "71d9d4cc-f2d4-47ba-8adb-161025df1314"
      },
      "execution_count": null,
      "outputs": [
        {
          "output_type": "stream",
          "name": "stdout",
          "text": [
            "[1 2 3 4] \n",
            "\n",
            "[3 4 5 6] \n",
            "\n",
            "[-1  0  1  2] \n",
            "\n",
            "[2 4 6 8] \n",
            "\n",
            "[0.5 1.  1.5 2. ] \n",
            "\n",
            "[2 2 4 4] \n",
            "\n",
            "[ 1  4  9 16] \n",
            "\n",
            "[[1. 1. 1.]\n",
            " [1. 1. 1.]] \n",
            "\n",
            "[[2 2]\n",
            " [2 2]\n",
            " [2 2]] \n",
            "\n"
          ]
        },
        {
          "output_type": "execute_result",
          "data": {
            "text/plain": [
              "array([[6., 6.],\n",
              "       [6., 6.]])"
            ]
          },
          "metadata": {},
          "execution_count": 44
        }
      ]
    },
    {
      "cell_type": "code",
      "source": [
        "# Series are similar to numpy arrays but have more functions and parameters when it comes to indexing\n",
        "\n",
        "x = pd.Series([35.467, 63.951, 80.940, 60.665, 127.061, 64.511, 318.523], index=[\n",
        "    'Canada',\n",
        "    'France',\n",
        "    'Germany',\n",
        "    'Italy',\n",
        "    'Japan',\n",
        "    'United Kingdom',\n",
        "    'United States',\n",
        "])\n",
        "\n",
        "print(x)\n",
        "\n",
        "#splicing also works differently. the upper limit is included in series\n",
        "x['France':'Japan']"
      ],
      "metadata": {
        "colab": {
          "base_uri": "https://localhost:8080/",
          "height": 348
        },
        "id": "yPq-WO-Wc5Eu",
        "outputId": "27890dbe-76e5-4ecb-c0a7-8443b5a83c2d"
      },
      "execution_count": null,
      "outputs": [
        {
          "output_type": "stream",
          "name": "stdout",
          "text": [
            "Canada             35.467\n",
            "France             63.951\n",
            "Germany            80.940\n",
            "Italy              60.665\n",
            "Japan             127.061\n",
            "United Kingdom     64.511\n",
            "United States     318.523\n",
            "dtype: float64\n"
          ]
        },
        {
          "output_type": "execute_result",
          "data": {
            "text/plain": [
              "France      63.951\n",
              "Germany     80.940\n",
              "Italy       60.665\n",
              "Japan      127.061\n",
              "dtype: float64"
            ],
            "text/html": [
              "<div>\n",
              "<style scoped>\n",
              "    .dataframe tbody tr th:only-of-type {\n",
              "        vertical-align: middle;\n",
              "    }\n",
              "\n",
              "    .dataframe tbody tr th {\n",
              "        vertical-align: top;\n",
              "    }\n",
              "\n",
              "    .dataframe thead th {\n",
              "        text-align: right;\n",
              "    }\n",
              "</style>\n",
              "<table border=\"1\" class=\"dataframe\">\n",
              "  <thead>\n",
              "    <tr style=\"text-align: right;\">\n",
              "      <th></th>\n",
              "      <th>0</th>\n",
              "    </tr>\n",
              "  </thead>\n",
              "  <tbody>\n",
              "    <tr>\n",
              "      <th>France</th>\n",
              "      <td>63.951</td>\n",
              "    </tr>\n",
              "    <tr>\n",
              "      <th>Germany</th>\n",
              "      <td>80.940</td>\n",
              "    </tr>\n",
              "    <tr>\n",
              "      <th>Italy</th>\n",
              "      <td>60.665</td>\n",
              "    </tr>\n",
              "    <tr>\n",
              "      <th>Japan</th>\n",
              "      <td>127.061</td>\n",
              "    </tr>\n",
              "  </tbody>\n",
              "</table>\n",
              "</div><br><label><b>dtype:</b> float64</label>"
            ]
          },
          "metadata": {},
          "execution_count": 58
        }
      ]
    },
    {
      "cell_type": "code",
      "source": [
        "# importing data from csv, excel files etc\n",
        "\n",
        "table = pd.read_csv(\"/content/sample_data/california_housing_test.csv\")\n",
        "print(table.head())"
      ],
      "metadata": {
        "colab": {
          "base_uri": "https://localhost:8080/"
        },
        "id": "N6DApUjMhNcv",
        "outputId": "a51904f7-1eae-41aa-db76-da9acad3a306"
      },
      "execution_count": null,
      "outputs": [
        {
          "output_type": "stream",
          "name": "stdout",
          "text": [
            "   longitude  latitude  housing_median_age  total_rooms  total_bedrooms  \\\n",
            "0    -122.05     37.37                27.0       3885.0           661.0   \n",
            "1    -118.30     34.26                43.0       1510.0           310.0   \n",
            "2    -117.81     33.78                27.0       3589.0           507.0   \n",
            "3    -118.36     33.82                28.0         67.0            15.0   \n",
            "4    -119.67     36.33                19.0       1241.0           244.0   \n",
            "\n",
            "   population  households  median_income  median_house_value  \n",
            "0      1537.0       606.0         6.6085            344700.0  \n",
            "1       809.0       277.0         3.5990            176500.0  \n",
            "2      1484.0       495.0         5.7934            270500.0  \n",
            "3        49.0        11.0         6.1359            330000.0  \n",
            "4       850.0       237.0         2.9375             81700.0  \n"
          ]
        }
      ]
    },
    {
      "cell_type": "code",
      "source": [
        "table.drop(columns=[\"longitude\", \"latitude\"])\n",
        "print(table.head())\n",
        "\n",
        "#does not work as many numpy and pandas functions are \"view\" and not \"copy\" fns\n",
        "print(\"\\n ########################################################################### \\n\")\n",
        "# use inplace to actually make changes instead of creating a temporary buffer\n",
        "\n",
        "table.drop(columns=[\"longitude\", \"latitude\"], inplace=True)\n",
        "print(table.head())"
      ],
      "metadata": {
        "colab": {
          "base_uri": "https://localhost:8080/"
        },
        "id": "yTvRAZnpihMn",
        "outputId": "7a194ae1-63f7-4c63-e90c-5d43fb2cfc47"
      },
      "execution_count": null,
      "outputs": [
        {
          "output_type": "stream",
          "name": "stdout",
          "text": [
            "   longitude  latitude  housing_median_age  total_rooms  total_bedrooms  \\\n",
            "0    -122.05     37.37                27.0       3885.0           661.0   \n",
            "1    -118.30     34.26                43.0       1510.0           310.0   \n",
            "2    -117.81     33.78                27.0       3589.0           507.0   \n",
            "3    -118.36     33.82                28.0         67.0            15.0   \n",
            "4    -119.67     36.33                19.0       1241.0           244.0   \n",
            "\n",
            "   population  households  median_income  median_house_value  \n",
            "0      1537.0       606.0         6.6085            344700.0  \n",
            "1       809.0       277.0         3.5990            176500.0  \n",
            "2      1484.0       495.0         5.7934            270500.0  \n",
            "3        49.0        11.0         6.1359            330000.0  \n",
            "4       850.0       237.0         2.9375             81700.0  \n",
            "\n",
            " ########################################################################### \n",
            "\n",
            "   housing_median_age  total_rooms  total_bedrooms  population  households  \\\n",
            "0                27.0       3885.0           661.0      1537.0       606.0   \n",
            "1                43.0       1510.0           310.0       809.0       277.0   \n",
            "2                27.0       3589.0           507.0      1484.0       495.0   \n",
            "3                28.0         67.0            15.0        49.0        11.0   \n",
            "4                19.0       1241.0           244.0       850.0       237.0   \n",
            "\n",
            "   median_income  median_house_value  \n",
            "0         6.6085            344700.0  \n",
            "1         3.5990            176500.0  \n",
            "2         5.7934            270500.0  \n",
            "3         6.1359            330000.0  \n",
            "4         2.9375             81700.0  \n"
          ]
        }
      ]
    },
    {
      "cell_type": "code",
      "source": [
        "# One function to rule them all. Get basic information regarding all the columns\n",
        "\n",
        "table.describe()"
      ],
      "metadata": {
        "colab": {
          "base_uri": "https://localhost:8080/",
          "height": 300
        },
        "id": "HiQTMxgCYLnX",
        "outputId": "9e03e1c9-1bd1-4181-8403-342102d3d0f9"
      },
      "execution_count": null,
      "outputs": [
        {
          "output_type": "execute_result",
          "data": {
            "text/plain": [
              "       housing_median_age   total_rooms  total_bedrooms    population  \\\n",
              "count         3000.000000   3000.000000     3000.000000   3000.000000   \n",
              "mean            28.845333   2599.578667      529.950667   1402.798667   \n",
              "std             12.555396   2155.593332      415.654368   1030.543012   \n",
              "min              1.000000      6.000000        2.000000      5.000000   \n",
              "25%             18.000000   1401.000000      291.000000    780.000000   \n",
              "50%             29.000000   2106.000000      437.000000   1155.000000   \n",
              "75%             37.000000   3129.000000      636.000000   1742.750000   \n",
              "max             52.000000  30450.000000     5419.000000  11935.000000   \n",
              "\n",
              "       households  median_income  median_house_value  \n",
              "count  3000.00000    3000.000000          3000.00000  \n",
              "mean    489.91200       3.807272        205846.27500  \n",
              "std     365.42271       1.854512        113119.68747  \n",
              "min       2.00000       0.499900         22500.00000  \n",
              "25%     273.00000       2.544000        121200.00000  \n",
              "50%     409.50000       3.487150        177650.00000  \n",
              "75%     597.25000       4.656475        263975.00000  \n",
              "max    4930.00000      15.000100        500001.00000  "
            ],
            "text/html": [
              "\n",
              "  <div id=\"df-be8e7891-a82a-4209-b636-9854f4b29353\" class=\"colab-df-container\">\n",
              "    <div>\n",
              "<style scoped>\n",
              "    .dataframe tbody tr th:only-of-type {\n",
              "        vertical-align: middle;\n",
              "    }\n",
              "\n",
              "    .dataframe tbody tr th {\n",
              "        vertical-align: top;\n",
              "    }\n",
              "\n",
              "    .dataframe thead th {\n",
              "        text-align: right;\n",
              "    }\n",
              "</style>\n",
              "<table border=\"1\" class=\"dataframe\">\n",
              "  <thead>\n",
              "    <tr style=\"text-align: right;\">\n",
              "      <th></th>\n",
              "      <th>housing_median_age</th>\n",
              "      <th>total_rooms</th>\n",
              "      <th>total_bedrooms</th>\n",
              "      <th>population</th>\n",
              "      <th>households</th>\n",
              "      <th>median_income</th>\n",
              "      <th>median_house_value</th>\n",
              "    </tr>\n",
              "  </thead>\n",
              "  <tbody>\n",
              "    <tr>\n",
              "      <th>count</th>\n",
              "      <td>3000.000000</td>\n",
              "      <td>3000.000000</td>\n",
              "      <td>3000.000000</td>\n",
              "      <td>3000.000000</td>\n",
              "      <td>3000.00000</td>\n",
              "      <td>3000.000000</td>\n",
              "      <td>3000.00000</td>\n",
              "    </tr>\n",
              "    <tr>\n",
              "      <th>mean</th>\n",
              "      <td>28.845333</td>\n",
              "      <td>2599.578667</td>\n",
              "      <td>529.950667</td>\n",
              "      <td>1402.798667</td>\n",
              "      <td>489.91200</td>\n",
              "      <td>3.807272</td>\n",
              "      <td>205846.27500</td>\n",
              "    </tr>\n",
              "    <tr>\n",
              "      <th>std</th>\n",
              "      <td>12.555396</td>\n",
              "      <td>2155.593332</td>\n",
              "      <td>415.654368</td>\n",
              "      <td>1030.543012</td>\n",
              "      <td>365.42271</td>\n",
              "      <td>1.854512</td>\n",
              "      <td>113119.68747</td>\n",
              "    </tr>\n",
              "    <tr>\n",
              "      <th>min</th>\n",
              "      <td>1.000000</td>\n",
              "      <td>6.000000</td>\n",
              "      <td>2.000000</td>\n",
              "      <td>5.000000</td>\n",
              "      <td>2.00000</td>\n",
              "      <td>0.499900</td>\n",
              "      <td>22500.00000</td>\n",
              "    </tr>\n",
              "    <tr>\n",
              "      <th>25%</th>\n",
              "      <td>18.000000</td>\n",
              "      <td>1401.000000</td>\n",
              "      <td>291.000000</td>\n",
              "      <td>780.000000</td>\n",
              "      <td>273.00000</td>\n",
              "      <td>2.544000</td>\n",
              "      <td>121200.00000</td>\n",
              "    </tr>\n",
              "    <tr>\n",
              "      <th>50%</th>\n",
              "      <td>29.000000</td>\n",
              "      <td>2106.000000</td>\n",
              "      <td>437.000000</td>\n",
              "      <td>1155.000000</td>\n",
              "      <td>409.50000</td>\n",
              "      <td>3.487150</td>\n",
              "      <td>177650.00000</td>\n",
              "    </tr>\n",
              "    <tr>\n",
              "      <th>75%</th>\n",
              "      <td>37.000000</td>\n",
              "      <td>3129.000000</td>\n",
              "      <td>636.000000</td>\n",
              "      <td>1742.750000</td>\n",
              "      <td>597.25000</td>\n",
              "      <td>4.656475</td>\n",
              "      <td>263975.00000</td>\n",
              "    </tr>\n",
              "    <tr>\n",
              "      <th>max</th>\n",
              "      <td>52.000000</td>\n",
              "      <td>30450.000000</td>\n",
              "      <td>5419.000000</td>\n",
              "      <td>11935.000000</td>\n",
              "      <td>4930.00000</td>\n",
              "      <td>15.000100</td>\n",
              "      <td>500001.00000</td>\n",
              "    </tr>\n",
              "  </tbody>\n",
              "</table>\n",
              "</div>\n",
              "    <div class=\"colab-df-buttons\">\n",
              "\n",
              "  <div class=\"colab-df-container\">\n",
              "    <button class=\"colab-df-convert\" onclick=\"convertToInteractive('df-be8e7891-a82a-4209-b636-9854f4b29353')\"\n",
              "            title=\"Convert this dataframe to an interactive table.\"\n",
              "            style=\"display:none;\">\n",
              "\n",
              "  <svg xmlns=\"http://www.w3.org/2000/svg\" height=\"24px\" viewBox=\"0 -960 960 960\">\n",
              "    <path d=\"M120-120v-720h720v720H120Zm60-500h600v-160H180v160Zm220 220h160v-160H400v160Zm0 220h160v-160H400v160ZM180-400h160v-160H180v160Zm440 0h160v-160H620v160ZM180-180h160v-160H180v160Zm440 0h160v-160H620v160Z\"/>\n",
              "  </svg>\n",
              "    </button>\n",
              "\n",
              "  <style>\n",
              "    .colab-df-container {\n",
              "      display:flex;\n",
              "      gap: 12px;\n",
              "    }\n",
              "\n",
              "    .colab-df-convert {\n",
              "      background-color: #E8F0FE;\n",
              "      border: none;\n",
              "      border-radius: 50%;\n",
              "      cursor: pointer;\n",
              "      display: none;\n",
              "      fill: #1967D2;\n",
              "      height: 32px;\n",
              "      padding: 0 0 0 0;\n",
              "      width: 32px;\n",
              "    }\n",
              "\n",
              "    .colab-df-convert:hover {\n",
              "      background-color: #E2EBFA;\n",
              "      box-shadow: 0px 1px 2px rgba(60, 64, 67, 0.3), 0px 1px 3px 1px rgba(60, 64, 67, 0.15);\n",
              "      fill: #174EA6;\n",
              "    }\n",
              "\n",
              "    .colab-df-buttons div {\n",
              "      margin-bottom: 4px;\n",
              "    }\n",
              "\n",
              "    [theme=dark] .colab-df-convert {\n",
              "      background-color: #3B4455;\n",
              "      fill: #D2E3FC;\n",
              "    }\n",
              "\n",
              "    [theme=dark] .colab-df-convert:hover {\n",
              "      background-color: #434B5C;\n",
              "      box-shadow: 0px 1px 3px 1px rgba(0, 0, 0, 0.15);\n",
              "      filter: drop-shadow(0px 1px 2px rgba(0, 0, 0, 0.3));\n",
              "      fill: #FFFFFF;\n",
              "    }\n",
              "  </style>\n",
              "\n",
              "    <script>\n",
              "      const buttonEl =\n",
              "        document.querySelector('#df-be8e7891-a82a-4209-b636-9854f4b29353 button.colab-df-convert');\n",
              "      buttonEl.style.display =\n",
              "        google.colab.kernel.accessAllowed ? 'block' : 'none';\n",
              "\n",
              "      async function convertToInteractive(key) {\n",
              "        const element = document.querySelector('#df-be8e7891-a82a-4209-b636-9854f4b29353');\n",
              "        const dataTable =\n",
              "          await google.colab.kernel.invokeFunction('convertToInteractive',\n",
              "                                                    [key], {});\n",
              "        if (!dataTable) return;\n",
              "\n",
              "        const docLinkHtml = 'Like what you see? Visit the ' +\n",
              "          '<a target=\"_blank\" href=https://colab.research.google.com/notebooks/data_table.ipynb>data table notebook</a>'\n",
              "          + ' to learn more about interactive tables.';\n",
              "        element.innerHTML = '';\n",
              "        dataTable['output_type'] = 'display_data';\n",
              "        await google.colab.output.renderOutput(dataTable, element);\n",
              "        const docLink = document.createElement('div');\n",
              "        docLink.innerHTML = docLinkHtml;\n",
              "        element.appendChild(docLink);\n",
              "      }\n",
              "    </script>\n",
              "  </div>\n",
              "\n",
              "\n",
              "    <div id=\"df-d3c20687-6ab1-47f3-99bb-64eb64db76b0\">\n",
              "      <button class=\"colab-df-quickchart\" onclick=\"quickchart('df-d3c20687-6ab1-47f3-99bb-64eb64db76b0')\"\n",
              "                title=\"Suggest charts\"\n",
              "                style=\"display:none;\">\n",
              "\n",
              "<svg xmlns=\"http://www.w3.org/2000/svg\" height=\"24px\"viewBox=\"0 0 24 24\"\n",
              "     width=\"24px\">\n",
              "    <g>\n",
              "        <path d=\"M19 3H5c-1.1 0-2 .9-2 2v14c0 1.1.9 2 2 2h14c1.1 0 2-.9 2-2V5c0-1.1-.9-2-2-2zM9 17H7v-7h2v7zm4 0h-2V7h2v10zm4 0h-2v-4h2v4z\"/>\n",
              "    </g>\n",
              "</svg>\n",
              "      </button>\n",
              "\n",
              "<style>\n",
              "  .colab-df-quickchart {\n",
              "      --bg-color: #E8F0FE;\n",
              "      --fill-color: #1967D2;\n",
              "      --hover-bg-color: #E2EBFA;\n",
              "      --hover-fill-color: #174EA6;\n",
              "      --disabled-fill-color: #AAA;\n",
              "      --disabled-bg-color: #DDD;\n",
              "  }\n",
              "\n",
              "  [theme=dark] .colab-df-quickchart {\n",
              "      --bg-color: #3B4455;\n",
              "      --fill-color: #D2E3FC;\n",
              "      --hover-bg-color: #434B5C;\n",
              "      --hover-fill-color: #FFFFFF;\n",
              "      --disabled-bg-color: #3B4455;\n",
              "      --disabled-fill-color: #666;\n",
              "  }\n",
              "\n",
              "  .colab-df-quickchart {\n",
              "    background-color: var(--bg-color);\n",
              "    border: none;\n",
              "    border-radius: 50%;\n",
              "    cursor: pointer;\n",
              "    display: none;\n",
              "    fill: var(--fill-color);\n",
              "    height: 32px;\n",
              "    padding: 0;\n",
              "    width: 32px;\n",
              "  }\n",
              "\n",
              "  .colab-df-quickchart:hover {\n",
              "    background-color: var(--hover-bg-color);\n",
              "    box-shadow: 0 1px 2px rgba(60, 64, 67, 0.3), 0 1px 3px 1px rgba(60, 64, 67, 0.15);\n",
              "    fill: var(--button-hover-fill-color);\n",
              "  }\n",
              "\n",
              "  .colab-df-quickchart-complete:disabled,\n",
              "  .colab-df-quickchart-complete:disabled:hover {\n",
              "    background-color: var(--disabled-bg-color);\n",
              "    fill: var(--disabled-fill-color);\n",
              "    box-shadow: none;\n",
              "  }\n",
              "\n",
              "  .colab-df-spinner {\n",
              "    border: 2px solid var(--fill-color);\n",
              "    border-color: transparent;\n",
              "    border-bottom-color: var(--fill-color);\n",
              "    animation:\n",
              "      spin 1s steps(1) infinite;\n",
              "  }\n",
              "\n",
              "  @keyframes spin {\n",
              "    0% {\n",
              "      border-color: transparent;\n",
              "      border-bottom-color: var(--fill-color);\n",
              "      border-left-color: var(--fill-color);\n",
              "    }\n",
              "    20% {\n",
              "      border-color: transparent;\n",
              "      border-left-color: var(--fill-color);\n",
              "      border-top-color: var(--fill-color);\n",
              "    }\n",
              "    30% {\n",
              "      border-color: transparent;\n",
              "      border-left-color: var(--fill-color);\n",
              "      border-top-color: var(--fill-color);\n",
              "      border-right-color: var(--fill-color);\n",
              "    }\n",
              "    40% {\n",
              "      border-color: transparent;\n",
              "      border-right-color: var(--fill-color);\n",
              "      border-top-color: var(--fill-color);\n",
              "    }\n",
              "    60% {\n",
              "      border-color: transparent;\n",
              "      border-right-color: var(--fill-color);\n",
              "    }\n",
              "    80% {\n",
              "      border-color: transparent;\n",
              "      border-right-color: var(--fill-color);\n",
              "      border-bottom-color: var(--fill-color);\n",
              "    }\n",
              "    90% {\n",
              "      border-color: transparent;\n",
              "      border-bottom-color: var(--fill-color);\n",
              "    }\n",
              "  }\n",
              "</style>\n",
              "\n",
              "      <script>\n",
              "        async function quickchart(key) {\n",
              "          const quickchartButtonEl =\n",
              "            document.querySelector('#' + key + ' button');\n",
              "          quickchartButtonEl.disabled = true;  // To prevent multiple clicks.\n",
              "          quickchartButtonEl.classList.add('colab-df-spinner');\n",
              "          try {\n",
              "            const charts = await google.colab.kernel.invokeFunction(\n",
              "                'suggestCharts', [key], {});\n",
              "          } catch (error) {\n",
              "            console.error('Error during call to suggestCharts:', error);\n",
              "          }\n",
              "          quickchartButtonEl.classList.remove('colab-df-spinner');\n",
              "          quickchartButtonEl.classList.add('colab-df-quickchart-complete');\n",
              "        }\n",
              "        (() => {\n",
              "          let quickchartButtonEl =\n",
              "            document.querySelector('#df-d3c20687-6ab1-47f3-99bb-64eb64db76b0 button');\n",
              "          quickchartButtonEl.style.display =\n",
              "            google.colab.kernel.accessAllowed ? 'block' : 'none';\n",
              "        })();\n",
              "      </script>\n",
              "    </div>\n",
              "\n",
              "    </div>\n",
              "  </div>\n"
            ],
            "application/vnd.google.colaboratory.intrinsic+json": {
              "type": "dataframe",
              "summary": "{\n  \"name\": \"table\",\n  \"rows\": 8,\n  \"fields\": [\n    {\n      \"column\": \"housing_median_age\",\n      \"properties\": {\n        \"dtype\": \"number\",\n        \"std\": 1051.7638105336573,\n        \"min\": 1.0,\n        \"max\": 3000.0,\n        \"num_unique_values\": 8,\n        \"samples\": [\n          28.845333333333333,\n          29.0,\n          3000.0\n        ],\n        \"semantic_type\": \"\",\n        \"description\": \"\"\n      }\n    },\n    {\n      \"column\": \"total_rooms\",\n      \"properties\": {\n        \"dtype\": \"number\",\n        \"std\": 10088.09058334902,\n        \"min\": 6.0,\n        \"max\": 30450.0,\n        \"num_unique_values\": 8,\n        \"samples\": [\n          2599.578666666667,\n          2106.0,\n          3000.0\n        ],\n        \"semantic_type\": \"\",\n        \"description\": \"\"\n      }\n    },\n    {\n      \"column\": \"total_bedrooms\",\n      \"properties\": {\n        \"dtype\": \"number\",\n        \"std\": 1893.8280096609255,\n        \"min\": 2.0,\n        \"max\": 5419.0,\n        \"num_unique_values\": 8,\n        \"samples\": [\n          529.9506666666666,\n          437.0,\n          3000.0\n        ],\n        \"semantic_type\": \"\",\n        \"description\": \"\"\n      }\n    },\n    {\n      \"column\": \"population\",\n      \"properties\": {\n        \"dtype\": \"number\",\n        \"std\": 3855.6110864929296,\n        \"min\": 5.0,\n        \"max\": 11935.0,\n        \"num_unique_values\": 8,\n        \"samples\": [\n          1402.7986666666666,\n          1155.0,\n          3000.0\n        ],\n        \"semantic_type\": \"\",\n        \"description\": \"\"\n      }\n    },\n    {\n      \"column\": \"households\",\n      \"properties\": {\n        \"dtype\": \"number\",\n        \"std\": 1756.990284459096,\n        \"min\": 2.0,\n        \"max\": 4930.0,\n        \"num_unique_values\": 8,\n        \"samples\": [\n          489.912,\n          409.5,\n          3000.0\n        ],\n        \"semantic_type\": \"\",\n        \"description\": \"\"\n      }\n    },\n    {\n      \"column\": \"median_income\",\n      \"properties\": {\n        \"dtype\": \"number\",\n        \"std\": 1059.0608810128942,\n        \"min\": 0.4999,\n        \"max\": 3000.0,\n        \"num_unique_values\": 8,\n        \"samples\": [\n          3.8072717999999997,\n          3.4871499999999997,\n          3000.0\n        ],\n        \"semantic_type\": \"\",\n        \"description\": \"\"\n      }\n    },\n    {\n      \"column\": \"median_house_value\",\n      \"properties\": {\n        \"dtype\": \"number\",\n        \"std\": 157687.72590002406,\n        \"min\": 3000.0,\n        \"max\": 500001.0,\n        \"num_unique_values\": 8,\n        \"samples\": [\n          205846.275,\n          177650.0,\n          3000.0\n        ],\n        \"semantic_type\": \"\",\n        \"description\": \"\"\n      }\n    }\n  ]\n}"
            }
          },
          "metadata": {},
          "execution_count": 40
        }
      ]
    },
    {
      "cell_type": "code",
      "source": [
        "# boolean operations return a true-false mask.\n",
        "inBudget = (table[\"median_house_value\"] < 200000)\n",
        "print(inBudget)\n",
        "print(\"\\n ########################################################################### \\n\")\n",
        "# passing a mask to a table returns only the rows where the mask is true\n",
        "print(table[inBudget])"
      ],
      "metadata": {
        "colab": {
          "base_uri": "https://localhost:8080/"
        },
        "id": "nrlOG9OAmlhW",
        "outputId": "93a52789-b3e7-41ed-d910-5e8a0e0881e0"
      },
      "execution_count": null,
      "outputs": [
        {
          "output_type": "stream",
          "name": "stdout",
          "text": [
            "0       False\n",
            "1        True\n",
            "2       False\n",
            "3       False\n",
            "4        True\n",
            "        ...  \n",
            "2995    False\n",
            "2996    False\n",
            "2997     True\n",
            "2998     True\n",
            "2999    False\n",
            "Name: median_house_value, Length: 3000, dtype: bool\n",
            "\n",
            " ########################################################################### \n",
            "\n",
            "      housing_median_age  total_rooms  total_bedrooms  population  households  \\\n",
            "1                   43.0       1510.0           310.0       809.0       277.0   \n",
            "4                   19.0       1241.0           244.0       850.0       237.0   \n",
            "5                   37.0       1018.0           213.0       663.0       204.0   \n",
            "6                   43.0       1009.0           225.0       604.0       218.0   \n",
            "7                   19.0       2310.0           471.0      1341.0       441.0   \n",
            "...                  ...          ...             ...         ...         ...   \n",
            "2989                32.0       1295.0           295.0      1097.0       328.0   \n",
            "2990                49.0       1638.0           456.0      1500.0       430.0   \n",
            "2994                35.0        931.0           181.0       516.0       174.0   \n",
            "2997                10.0        956.0           201.0       693.0       220.0   \n",
            "2998                40.0         96.0            14.0        46.0        14.0   \n",
            "\n",
            "      median_income  median_house_value  \n",
            "1            3.5990            176500.0  \n",
            "4            2.9375             81700.0  \n",
            "5            1.6635             67000.0  \n",
            "6            1.6641             67000.0  \n",
            "7            3.2250            166900.0  \n",
            "...             ...                 ...  \n",
            "2989         3.2386            149600.0  \n",
            "2990         2.6923            150000.0  \n",
            "2994         5.5867            182500.0  \n",
            "2997         2.2895             62000.0  \n",
            "2998         3.2708            162500.0  \n",
            "\n",
            "[1737 rows x 7 columns]\n"
          ]
        }
      ]
    },
    {
      "cell_type": "code",
      "source": [],
      "metadata": {
        "id": "T8RZ-MdFb58A"
      },
      "execution_count": null,
      "outputs": []
    }
  ]
}