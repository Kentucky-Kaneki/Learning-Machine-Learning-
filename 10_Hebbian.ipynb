{
  "nbformat": 4,
  "nbformat_minor": 0,
  "metadata": {
    "colab": {
      "provenance": [],
      "include_colab_link": true
    },
    "kernelspec": {
      "name": "python3",
      "display_name": "Python 3"
    },
    "language_info": {
      "name": "python"
    }
  },
  "cells": [
    {
      "cell_type": "markdown",
      "metadata": {
        "id": "view-in-github",
        "colab_type": "text"
      },
      "source": [
        "<a href=\"https://colab.research.google.com/github/Kentucky-Kaneki/Learning-Machine-Learning-/blob/main/10_Hebbian.ipynb\" target=\"_parent\"><img src=\"https://colab.research.google.com/assets/colab-badge.svg\" alt=\"Open In Colab\"/></a>"
      ]
    },
    {
      "cell_type": "code",
      "execution_count": null,
      "metadata": {
        "colab": {
          "base_uri": "https://localhost:8080/"
        },
        "id": "dWfgt_pfKFWM",
        "outputId": "7f224f7a-a0a4-4ecb-e0e0-daef482e53e5"
      },
      "outputs": [
        {
          "output_type": "stream",
          "name": "stdout",
          "text": [
            "Initial weights: [0. 0.]\n"
          ]
        }
      ],
      "source": [
        "import numpy as np\n",
        "\n",
        "# OR gate inputs and outputs\n",
        "X = np.array([\n",
        "    [0, 0],\n",
        "    [0, 1],\n",
        "    [1, 0],\n",
        "    [1, 1]\n",
        "])\n",
        "\n",
        "y = np.array([0, 1, 1, 1])\n",
        "\n",
        "# Initialize weights and learning rate\n",
        "weights = np.zeros(X.shape[1])\n",
        "learning_rate = 0.1\n",
        "\n",
        "print(\"Initial weights:\", weights)"
      ]
    },
    {
      "cell_type": "code",
      "source": [
        "# In-place Hebbian learning on the OR gate dataset for multiple epochs\n",
        "epochs = 5\n",
        "for epoch in range(epochs):\n",
        "    print(f\"Epoch {epoch+1}\")\n",
        "    for xi, yi in zip(X, y):\n",
        "        # Calculate output (dot product)\n",
        "        output = np.dot(weights, xi)\n",
        "\n",
        "        # Hebbian weight update rule (supervised here using yi)\n",
        "        weights += learning_rate * xi * yi\n",
        "\n",
        "        print(f\"Input: {xi}, Target: {yi}, Updated weights: {weights}\")\n",
        "\n",
        "print(\"Final learned weights:\", weights)"
      ],
      "metadata": {
        "id": "eqCmN3nZMeHC",
        "outputId": "aa83a529-a2ba-4d36-fc72-62a9b8e604d0",
        "colab": {
          "base_uri": "https://localhost:8080/"
        }
      },
      "execution_count": null,
      "outputs": [
        {
          "output_type": "stream",
          "name": "stdout",
          "text": [
            "Epoch 1\n",
            "Input: [0 0], Target: 0, Updated weights: [0. 0.]\n",
            "Input: [0 1], Target: 1, Updated weights: [0.  0.1]\n",
            "Input: [1 0], Target: 1, Updated weights: [0.1 0.1]\n",
            "Input: [1 1], Target: 1, Updated weights: [0.2 0.2]\n",
            "Epoch 2\n",
            "Input: [0 0], Target: 0, Updated weights: [0.2 0.2]\n",
            "Input: [0 1], Target: 1, Updated weights: [0.2 0.3]\n",
            "Input: [1 0], Target: 1, Updated weights: [0.3 0.3]\n",
            "Input: [1 1], Target: 1, Updated weights: [0.4 0.4]\n",
            "Epoch 3\n",
            "Input: [0 0], Target: 0, Updated weights: [0.4 0.4]\n",
            "Input: [0 1], Target: 1, Updated weights: [0.4 0.5]\n",
            "Input: [1 0], Target: 1, Updated weights: [0.5 0.5]\n",
            "Input: [1 1], Target: 1, Updated weights: [0.6 0.6]\n",
            "Epoch 4\n",
            "Input: [0 0], Target: 0, Updated weights: [0.6 0.6]\n",
            "Input: [0 1], Target: 1, Updated weights: [0.6 0.7]\n",
            "Input: [1 0], Target: 1, Updated weights: [0.7 0.7]\n",
            "Input: [1 1], Target: 1, Updated weights: [0.8 0.8]\n",
            "Epoch 5\n",
            "Input: [0 0], Target: 0, Updated weights: [0.8 0.8]\n",
            "Input: [0 1], Target: 1, Updated weights: [0.8 0.9]\n",
            "Input: [1 0], Target: 1, Updated weights: [0.9 0.9]\n",
            "Input: [1 1], Target: 1, Updated weights: [1. 1.]\n",
            "Final learned weights: [1. 1.]\n"
          ]
        }
      ]
    },
    {
      "cell_type": "code",
      "source": [
        "# Test learned weights on inputs\n",
        "print(\"\\nTesting learned weights:\")\n",
        "for xi in X:\n",
        "    out = np.dot(weights, xi)\n",
        "    prediction = 1 if out >= 0.5 else 0  # threshold 0.5\n",
        "    print(f\"Input: {xi}, Weighted sum: {out:.2f}, Predicted output: {prediction}\")"
      ],
      "metadata": {
        "id": "WphZaddjODJ5",
        "outputId": "842a4493-20f9-477f-a9eb-cb6d49873aa9",
        "colab": {
          "base_uri": "https://localhost:8080/"
        }
      },
      "execution_count": null,
      "outputs": [
        {
          "output_type": "stream",
          "name": "stdout",
          "text": [
            "\n",
            "Testing learned weights:\n",
            "Input: [0 0], Weighted sum: 0.00, Predicted output: 0\n",
            "Input: [0 1], Weighted sum: 1.00, Predicted output: 1\n",
            "Input: [1 0], Weighted sum: 1.00, Predicted output: 1\n",
            "Input: [1 1], Weighted sum: 2.00, Predicted output: 1\n"
          ]
        }
      ]
    },
    {
      "cell_type": "code",
      "source": [],
      "metadata": {
        "id": "sehG9Th8OEMA"
      },
      "execution_count": null,
      "outputs": []
    }
  ]
}