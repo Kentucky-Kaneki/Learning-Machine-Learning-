{
  "nbformat": 4,
  "nbformat_minor": 0,
  "metadata": {
    "colab": {
      "provenance": [],
      "authorship_tag": "ABX9TyP6FUsjxZwf2bugZruXKjRu",
      "include_colab_link": true
    },
    "kernelspec": {
      "name": "python3",
      "display_name": "Python 3"
    },
    "language_info": {
      "name": "python"
    }
  },
  "cells": [
    {
      "cell_type": "markdown",
      "metadata": {
        "id": "view-in-github",
        "colab_type": "text"
      },
      "source": [
        "<a href=\"https://colab.research.google.com/github/Kentucky-Kaneki/Learning-Machine-Learning-/blob/main/9_Perceptron.ipynb\" target=\"_parent\"><img src=\"https://colab.research.google.com/assets/colab-badge.svg\" alt=\"Open In Colab\"/></a>"
      ]
    },
    {
      "cell_type": "code",
      "execution_count": 1,
      "metadata": {
        "id": "0Y9IEdjWPNE5"
      },
      "outputs": [],
      "source": [
        "import numpy as np\n",
        "import pandas as pd\n",
        "from sklearn.datasets import load_iris\n",
        "from sklearn.model_selection import train_test_split\n",
        "from sklearn.preprocessing import OneHotEncoder, StandardScaler"
      ]
    },
    {
      "cell_type": "code",
      "source": [
        "# Activation functions and derivatives\n",
        "def sigmoid(x):\n",
        "    return 1 / (1 + np.exp(-x))\n",
        "\n",
        "def sigmoid_derivative(x):\n",
        "    return x * (1 - x)\n",
        "\n",
        "def softmax(x):\n",
        "    exps = np.exp(x - np.max(x, axis=1, keepdims=True))\n",
        "    return exps / np.sum(exps, axis=1, keepdims=True)\n",
        "\n",
        "# Loss function: cross-entropy\n",
        "def cross_entropy(y_true, y_pred):\n",
        "    # Add a small epsilon to avoid log(0)\n",
        "    epsilon = 1e-9\n",
        "\n",
        "    # Calculate log of predicted probabilities\n",
        "    log_preds = np.log(y_pred + epsilon)\n",
        "\n",
        "    # Multiply true labels by log of predictions (selects the log prob of the true class)\n",
        "    weighted_log_preds = y_true * log_preds\n",
        "\n",
        "    # Sum over classes for each sample\n",
        "    sample_losses = np.sum(weighted_log_preds, axis=1)\n",
        "\n",
        "    # Average the losses across all samples and negate\n",
        "    loss = -np.mean(sample_losses)\n",
        "\n",
        "    return loss"
      ],
      "metadata": {
        "id": "BcdzmSSLLQyZ"
      },
      "execution_count": 2,
      "outputs": []
    },
    {
      "cell_type": "code",
      "source": [
        "iris = load_iris()\n",
        "X = pd.DataFrame(iris.data, columns=iris.feature_names)\n",
        "y = pd.DataFrame(iris.target, columns=['target'])\n",
        "\n",
        "# Preprocess\n",
        "scaler = StandardScaler()\n",
        "X = scaler.fit_transform(X)\n",
        "\n",
        "encoder = OneHotEncoder(sparse_output=False)\n",
        "y_onehot = encoder.fit_transform(y)  # 150x3\n",
        "\n",
        "# Split\n",
        "X_train, X_test, y_train, y_test = train_test_split(X, y_onehot, test_size=0.2, random_state=42)"
      ],
      "metadata": {
        "id": "w2KdqUzFQmCh"
      },
      "execution_count": 3,
      "outputs": []
    },
    {
      "cell_type": "code",
      "source": [
        "# MLP architecture\n",
        "input_size = 4\n",
        "hidden_size = 6\n",
        "output_size = 3\n",
        "lr = 0.1\n",
        "epochs = 300\n",
        "\n",
        "# Initialize weights\n",
        "np.random.seed(0)\n",
        "W1 = np.random.randn(input_size, hidden_size) # 4x6 matrix\n",
        "b1 = np.zeros((1, hidden_size)) # bias is 0 initially\n",
        "W2 = np.random.randn(hidden_size, output_size) # 6x3 matrix\n",
        "b2 = np.zeros((1, output_size)) # bias coeff is 0 initially"
      ],
      "metadata": {
        "id": "d1erVgUSLb3A"
      },
      "execution_count": 4,
      "outputs": []
    },
    {
      "cell_type": "code",
      "source": [
        "# Training loop\n",
        "for epoch in range(epochs):\n",
        "    # Forward pass\n",
        "    z1 = np.dot(X_train, W1) + b1 # yin for input to hidden layer\n",
        "    a1 = sigmoid(z1) #\n",
        "    z2 = np.dot(a1, W2) + b2 # yin for the output layer\n",
        "    a2 = softmax(z2) # final y at the output layer\n",
        "\n",
        "    # Loss\n",
        "    loss = cross_entropy(y_train, a2)\n",
        "\n",
        "    # Backpropagation\n",
        "    error_output = a2 - y_train  # shape: (n_samples, output_size)\n",
        "    dW2 = np.dot(a1.T, error_output)\n",
        "    db2 = np.sum(error_output, axis=0, keepdims=True)\n",
        "\n",
        "    error_hidden = np.dot(error_output, W2.T) * sigmoid_derivative(a1)\n",
        "    dW1 = np.dot(X_train.T, error_hidden)\n",
        "    db1 = np.sum(error_hidden, axis=0, keepdims=True)\n",
        "\n",
        "    # Update weights\n",
        "    W2 -= lr * dW2\n",
        "    b2 -= lr * db2\n",
        "    W1 -= lr * dW1\n",
        "    b1 -= lr * db1\n",
        "\n",
        "    # print loss every 50 epochs\n",
        "    if epoch % 50 == 0:\n",
        "        print(f\"Epoch {epoch}, Loss: {loss:.4f}\")"
      ],
      "metadata": {
        "colab": {
          "base_uri": "https://localhost:8080/"
        },
        "id": "Etwe1w4xLnBQ",
        "outputId": "f3d2f837-043d-4292-fd0d-81a2ce70b518"
      },
      "execution_count": 5,
      "outputs": [
        {
          "output_type": "stream",
          "name": "stdout",
          "text": [
            "Epoch 0, Loss: 1.2202\n",
            "Epoch 50, Loss: 0.0723\n",
            "Epoch 100, Loss: 0.0518\n",
            "Epoch 150, Loss: 0.0474\n",
            "Epoch 200, Loss: 0.0444\n",
            "Epoch 250, Loss: 0.0416\n"
          ]
        }
      ]
    },
    {
      "cell_type": "code",
      "source": [
        "# Evaluate\n",
        "z1 = np.dot(X_test, W1) + b1\n",
        "a1 = sigmoid(z1)\n",
        "z2 = np.dot(a1, W2) + b2\n",
        "a2 = softmax(z2)\n",
        "\n",
        "predictions = np.argmax(a2, axis=1)\n",
        "y_true = np.argmax(y_test, axis=1)\n",
        "\n",
        "accuracy = np.mean(predictions == y_true)\n",
        "print(f\"\\nTest Accuracy: {accuracy * 100:.2f}%\")"
      ],
      "metadata": {
        "colab": {
          "base_uri": "https://localhost:8080/"
        },
        "id": "LGziODpGLsxw",
        "outputId": "44db77e7-d845-4f3e-fe2a-1ba2afcd5e3e"
      },
      "execution_count": 6,
      "outputs": [
        {
          "output_type": "stream",
          "name": "stdout",
          "text": [
            "\n",
            "Test Accuracy: 100.00%\n"
          ]
        }
      ]
    }
  ]
}